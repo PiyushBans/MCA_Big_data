{
  "nbformat": 4,
  "nbformat_minor": 0,
  "metadata": {
    "colab": {
      "provenance": [],
      "authorship_tag": "ABX9TyOsvCy+RoC6cqondwn0NUbr",
      "include_colab_link": true
    },
    "kernelspec": {
      "name": "python3",
      "display_name": "Python 3"
    },
    "language_info": {
      "name": "python"
    }
  },
  "cells": [
    {
      "cell_type": "markdown",
      "metadata": {
        "id": "view-in-github",
        "colab_type": "text"
      },
      "source": [
        "<a href=\"https://colab.research.google.com/github/PiyushBans/MCA_Big_data/blob/main/Assignment1.ipynb\" target=\"_parent\"><img src=\"https://colab.research.google.com/assets/colab-badge.svg\" alt=\"Open In Colab\"/></a>"
      ]
    },
    {
      "cell_type": "code",
      "execution_count": 2,
      "metadata": {
        "colab": {
          "base_uri": "https://localhost:8080/"
        },
        "id": "5mXe19NH39wo",
        "outputId": "d6e0cbab-dba2-4877-a010-5a524a7a189e"
      },
      "outputs": [
        {
          "output_type": "stream",
          "name": "stdout",
          "text": [
            "[5 4 6 3 2 1]\n"
          ]
        }
      ],
      "source": [
        "import numpy as np\n",
        "'''1. Reverse the NumPy array: arr = np.array([1, 2, 3, 6, 4, 5]) ) '''\n",
        "arr =np.array([1,2,3,6,4,5])\n",
        "reverse_array = arr[::-1]\n",
        "print(reverse_array)"
      ]
    },
    {
      "cell_type": "code",
      "source": [
        "'''2. Compare the following numpy arrays: arr1 = np.array([[1, 2], [3, 4]])\n",
        "arr2 = np.array([[1, 2], [3, 4]]) '''\n",
        "\n",
        "arr1 = np.array([[1, 2], [3, 4]])\n",
        "arr2 = np.array([[1, 2], [3, 4]])\n",
        "\n",
        "are_equal = np.array_equal(arr1, arr2)\n",
        "print(\"Are the arrays equal?\", are_equal)"
      ],
      "metadata": {
        "colab": {
          "base_uri": "https://localhost:8080/"
        },
        "id": "rfRkXSJR55M3",
        "outputId": "0e2ab728-1387-46fe-a522-3fbb4a98ec94"
      },
      "execution_count": 3,
      "outputs": [
        {
          "output_type": "stream",
          "name": "stdout",
          "text": [
            "Are the arrays equal? True\n"
          ]
        }
      ]
    },
    {
      "cell_type": "code",
      "source": [
        "'''3. Find the most frequent value and their indice(s) in the following arrays:\n",
        "i. x = np.array([1,2,3,4,5,1,2,1,1,1])\n",
        "ii. y = np.array([1, 1, 1, 2, 3, 4, 2, 4, 3, 3, ]) '''\n",
        "\n",
        "x = np.array([1, 2, 3, 4, 5, 1, 2, 1, 1, 1])\n",
        "counts = np.bincount(x)\n",
        "most_frequent_value = np.argmax(counts)\n",
        "most_frequent_indices = np.where(x == most_frequent_value)[0]\n",
        "\n",
        "print(\"Most frequent value in x:\", most_frequent_value)\n",
        "print(\"Indices of the most frequent value in x:\", most_frequent_indices)\n"
      ],
      "metadata": {
        "colab": {
          "base_uri": "https://localhost:8080/"
        },
        "id": "5ntI9QCo8gFI",
        "outputId": "4ce8b2df-4e66-4834-d989-656609041739"
      },
      "execution_count": 4,
      "outputs": [
        {
          "output_type": "stream",
          "name": "stdout",
          "text": [
            "Most frequent value in x: 1\n",
            "Indices of the most frequent value in x: [0 5 7 8 9]\n"
          ]
        }
      ]
    },
    {
      "cell_type": "code",
      "source": [
        "'''4. For the array gfg = np.matrix('[4, 1, 9; 12, 3, 1; 4, 5, 6]'),\n",
        "find i. Sum of all elements\n",
        "ii. Sum of all elements row-wise\n",
        "iii. Sum of all elements column-wise '''\n",
        "\n",
        "gfg = np.matrix('4, 1, 9; 12, 3, 1; 4, 5, 6')\n",
        "\n",
        "# i. Sum of all elements\n",
        "total_sum = np.sum(gfg)\n",
        "\n",
        "# ii. Sum of all elements row-wise\n",
        "row_sum = np.sum(gfg, axis=1)\n",
        "\n",
        "# iii. Sum of all elements column-wise\n",
        "col_sum = np.sum(gfg, axis=0)\n",
        "\n",
        "print(\"Sum of all elements:\", total_sum)\n",
        "print(\"Sum of all elements row-wise:\", row_sum)\n",
        "print(\"Sum of all elements column-wise:\", col_sum)\n",
        "print(gfg)"
      ],
      "metadata": {
        "colab": {
          "base_uri": "https://localhost:8080/"
        },
        "id": "Fk-0pC1q9PRn",
        "outputId": "80b6fafa-8730-459f-a3f9-b607bc719f8b"
      },
      "execution_count": 6,
      "outputs": [
        {
          "output_type": "stream",
          "name": "stdout",
          "text": [
            "Sum of all elements: 45\n",
            "Sum of all elements row-wise: [[14]\n",
            " [16]\n",
            " [15]]\n",
            "Sum of all elements column-wise: [[20  9 16]]\n",
            "[[ 4  1  9]\n",
            " [12  3  1]\n",
            " [ 4  5  6]]\n"
          ]
        }
      ]
    }
  ]
}